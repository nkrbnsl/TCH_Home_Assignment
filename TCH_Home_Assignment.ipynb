{
 "cells": [
  {
   "cell_type": "code",
   "execution_count": 24,
   "id": "eb2f0246",
   "metadata": {},
   "outputs": [],
   "source": [
    "import ipywidgets as widgets\n",
    "import warnings\n",
    "warnings.filterwarnings('ignore')\n",
    "import pandas as pd\n",
    "import numpy as np\n",
    "pd.set_option('display.max_columns', None)"
   ]
  },
  {
   "cell_type": "code",
   "execution_count": 25,
   "id": "b6edbc3e",
   "metadata": {},
   "outputs": [],
   "source": [
    "filename  = 'ProgrammingAssignment.csv'\n",
    "frame = pd.read_csv(filename, low_memory=False)\n",
    "frame['City & State'] = frame['City'] + ', ' + frame['State']"
   ]
  },
  {
   "cell_type": "code",
   "execution_count": 26,
   "id": "43702900",
   "metadata": {},
   "outputs": [
    {
     "data": {
      "application/vnd.jupyter.widget-view+json": {
       "model_id": "7296dcbd306d403aa591407d8dc0a79f",
       "version_major": 2,
       "version_minor": 0
      },
      "text/plain": [
       "Dropdown(description='Field: ', options=('Bank Name', 'Type', 'City', 'State', 'Zip code', 'City & State'), va…"
      ]
     },
     "metadata": {},
     "output_type": "display_data"
    }
   ],
   "source": [
    "field = widgets.Dropdown(options=[i for i in frame.columns if i!= 'ID'], value=frame.columns[1],description='Field: ',disabled=False,)\n",
    "display(field)"
   ]
  },
  {
   "cell_type": "code",
   "execution_count": 32,
   "id": "11116b51",
   "metadata": {},
   "outputs": [],
   "source": [
    "fieldValue = field.value"
   ]
  },
  {
   "cell_type": "code",
   "execution_count": 33,
   "id": "e6c6b2a6",
   "metadata": {},
   "outputs": [
    {
     "data": {
      "application/vnd.jupyter.widget-view+json": {
       "model_id": "49ff3600051f4dff92b70aee5272c756",
       "version_major": 2,
       "version_minor": 0
      },
      "text/plain": [
       "Dropdown(description='Search Tag: ', options=('New York, NY', 'Winston-Salem, NC', 'Dallas, TX'), value='New Y…"
      ]
     },
     "metadata": {},
     "output_type": "display_data"
    }
   ],
   "source": [
    "tag = widgets.Dropdown(options=frame[fieldValue].unique(),value=frame[fieldValue].unique()[0],description='Search Tag: ',disabled=False,)\n",
    "display(tag)"
   ]
  },
  {
   "cell_type": "code",
   "execution_count": 34,
   "id": "0004a06e",
   "metadata": {},
   "outputs": [],
   "source": [
    "tagValue = tag.value"
   ]
  },
  {
   "cell_type": "code",
   "execution_count": 35,
   "id": "83d89958",
   "metadata": {},
   "outputs": [],
   "source": [
    "def Process(frame,fieldValue,tagValue):\n",
    "    dframe = frame[frame[fieldValue] == tagValue]\n",
    "    return dframe"
   ]
  },
  {
   "cell_type": "code",
   "execution_count": 36,
   "id": "d51044a5",
   "metadata": {},
   "outputs": [
    {
     "data": {
      "text/html": [
       "<div>\n",
       "<style scoped>\n",
       "    .dataframe tbody tr th:only-of-type {\n",
       "        vertical-align: middle;\n",
       "    }\n",
       "\n",
       "    .dataframe tbody tr th {\n",
       "        vertical-align: top;\n",
       "    }\n",
       "\n",
       "    .dataframe thead th {\n",
       "        text-align: right;\n",
       "    }\n",
       "</style>\n",
       "<table border=\"1\" class=\"dataframe\">\n",
       "  <thead>\n",
       "    <tr style=\"text-align: right;\">\n",
       "      <th></th>\n",
       "      <th>ID</th>\n",
       "      <th>Bank Name</th>\n",
       "      <th>Type</th>\n",
       "      <th>City</th>\n",
       "      <th>State</th>\n",
       "      <th>Zip code</th>\n",
       "      <th>City &amp; State</th>\n",
       "    </tr>\n",
       "  </thead>\n",
       "  <tbody>\n",
       "    <tr>\n",
       "      <th>5</th>\n",
       "      <td>6</td>\n",
       "      <td>Neighborhood Bank</td>\n",
       "      <td>ATM</td>\n",
       "      <td>Winston-Salem</td>\n",
       "      <td>NC</td>\n",
       "      <td>27105</td>\n",
       "      <td>Winston-Salem, NC</td>\n",
       "    </tr>\n",
       "    <tr>\n",
       "      <th>6</th>\n",
       "      <td>7</td>\n",
       "      <td>Amazing Bank</td>\n",
       "      <td>ATM</td>\n",
       "      <td>Winston-Salem</td>\n",
       "      <td>NC</td>\n",
       "      <td>27106</td>\n",
       "      <td>Winston-Salem, NC</td>\n",
       "    </tr>\n",
       "    <tr>\n",
       "      <th>7</th>\n",
       "      <td>8</td>\n",
       "      <td>Neighborhood Bank</td>\n",
       "      <td>Branch</td>\n",
       "      <td>Winston-Salem</td>\n",
       "      <td>NC</td>\n",
       "      <td>27107</td>\n",
       "      <td>Winston-Salem, NC</td>\n",
       "    </tr>\n",
       "  </tbody>\n",
       "</table>\n",
       "</div>"
      ],
      "text/plain": [
       "   ID          Bank Name    Type           City State  Zip code  \\\n",
       "5   6  Neighborhood Bank     ATM  Winston-Salem    NC     27105   \n",
       "6   7       Amazing Bank     ATM  Winston-Salem    NC     27106   \n",
       "7   8  Neighborhood Bank  Branch  Winston-Salem    NC     27107   \n",
       "\n",
       "        City & State  \n",
       "5  Winston-Salem, NC  \n",
       "6  Winston-Salem, NC  \n",
       "7  Winston-Salem, NC  "
      ]
     },
     "execution_count": 36,
     "metadata": {},
     "output_type": "execute_result"
    }
   ],
   "source": [
    "Process(frame,fieldValue,tagValue)"
   ]
  },
  {
   "cell_type": "code",
   "execution_count": null,
   "id": "6646df1a",
   "metadata": {},
   "outputs": [],
   "source": []
  }
 ],
 "metadata": {
  "kernelspec": {
   "display_name": "Python 3 (ipykernel)",
   "language": "python",
   "name": "python3"
  },
  "language_info": {
   "codemirror_mode": {
    "name": "ipython",
    "version": 3
   },
   "file_extension": ".py",
   "mimetype": "text/x-python",
   "name": "python",
   "nbconvert_exporter": "python",
   "pygments_lexer": "ipython3",
   "version": "3.9.7"
  }
 },
 "nbformat": 4,
 "nbformat_minor": 5
}
